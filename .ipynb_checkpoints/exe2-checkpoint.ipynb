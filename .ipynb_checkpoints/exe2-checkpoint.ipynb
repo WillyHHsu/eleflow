{
 "cells": [
  {
   "cell_type": "markdown",
   "id": "collective-associate",
   "metadata": {},
   "source": [
    "### A"
   ]
  },
  {
   "cell_type": "code",
   "execution_count": 1,
   "id": "proper-motel",
   "metadata": {},
   "outputs": [
    {
     "data": {
      "text/plain": [
       "'\\nModelos supervisionados - utiliza das variáveis independentes(Xn) para determinar o valor da variável dependente(Y)\\n                            Exe: Regressão linear\\n\\nModelos não supervisionados - utiliza de padrões indentificados para agrupar os dados sem marcação, sem uma variável explicita.\\n                            Apesar do nome, frequentemene é necessário alguém com domínio das regras de negócio para ver ser o output faz sentido.\\n                            Exe: Alg. de clustering KNN\\n'"
      ]
     },
     "execution_count": 1,
     "metadata": {},
     "output_type": "execute_result"
    }
   ],
   "source": [
    "\"\"\"\n",
    "Modelos supervisionados - utiliza das variáveis independentes(Xn) para determinar o valor da variável dependente(Y)\n",
    "                            Exe: Regressão linear\n",
    "\n",
    "Modelos não supervisionados - utiliza de padrões indentificados para agrupar os dados sem marcação, sem uma variável explicita.\n",
    "                            Apesar do nome, frequentemene é necessário alguém com domínio das regras de negócio para ver ser o output faz sentido.\n",
    "                            Exe: Alg. de clustering KNN\n",
    "\"\"\""
   ]
  },
  {
   "cell_type": "markdown",
   "id": "heavy-console",
   "metadata": {},
   "source": [
    "### B"
   ]
  },
  {
   "cell_type": "code",
   "execution_count": 2,
   "id": "general-artist",
   "metadata": {},
   "outputs": [],
   "source": [
    "def pr(tp,fp):\n",
    "    return tp/(tp+fp)\n",
    "\n",
    "def re(tp,fn):\n",
    "    return tp/(tp+fn)\n",
    "\n",
    "def acc(tp,tn,fp,fn):\n",
    "    return (tp+tn)/(tp+tn+fp+fn)\n",
    "\n",
    "def f1(tp,fp,fn):\n",
    "    return (2*tp)/(2*tp+fp+fn)\n",
    "\n",
    "def spc(tn,fp):\n",
    "    return tn/(tn+fp)"
   ]
  },
  {
   "cell_type": "code",
   "execution_count": 3,
   "id": "controlled-grain",
   "metadata": {},
   "outputs": [
    {
     "name": "stdout",
     "output_type": "stream",
     "text": [
      "esquerda\n",
      "PR 0.9170794056558556 \n",
      " RE 0.8368566846479079 \n",
      "ACC 0.9024477398606396 \n",
      " f1 0.8751334044823906 \n",
      " SPC 0.9477446637132501\n",
      "----------------------------------------\n",
      "direita\n",
      "PR 0.9054452789699571 \n",
      " RE 0.7710141617176793 \n",
      "ACC 0.8386040140551486 \n",
      " f1 0.8328398716999753 \n",
      " SPC 0.9122588674548848\n"
     ]
    }
   ],
   "source": [
    "tp= 5740\n",
    "fp= 519\n",
    "fn=1119\n",
    "tn=9413\n",
    "\n",
    "x1_PR= pr(tp,fp)\n",
    "x1_RE=re(tp,fn)\n",
    "x1_ACC=acc(tp,tn,fp,fn)\n",
    "x1_F1=f1(tp,fp,fn)\n",
    "x1_SPC = spc(tn,fp)\n",
    "\n",
    "print('esquerda')\n",
    "print(f\"\"\"PR {x1_PR} \\n RE {x1_RE} \\nACC {x1_ACC} \\n f1 {x1_F1} \\n SPC {x1_SPC}\"\"\")\n",
    "print('--'*20)\n",
    "\n",
    "tp= 6751\n",
    "fp= 705\n",
    "fn=2005\n",
    "tn=7330\n",
    "\n",
    "print('direita')\n",
    "x2_PR= pr(tp,fp)\n",
    "x2_RE=re(tp,fn)\n",
    "x2_ACC=acc(tp,tn,fp,fn)\n",
    "x2_F1=f1(tp,fp,fn)\n",
    "x2_SPC = spc(tn,fp)\n",
    "\n",
    "print(f\"\"\"PR {x2_PR} \\n RE {x2_RE} \\nACC {x2_ACC} \\n f1 {x2_F1} \\n SPC {x2_SPC}\"\"\")"
   ]
  },
  {
   "cell_type": "code",
   "execution_count": 4,
   "id": "green-position",
   "metadata": {},
   "outputs": [
    {
     "data": {
      "image/png": "[encoded data removed]",
      "text/plain": [
       "<Figure size 432x288 with 1 Axes>"
      ]
     },
     "metadata": {
      "needs_background": "light"
     },
     "output_type": "display_data"
    }
   ],
   "source": [
    "import matplotlib.pyplot as plt\n",
    "\n",
    "x=[x*0.1 for x in range(11)]\n",
    "y=[y*0.1 for y in range(11)]\n",
    "\n",
    "plt.plot(x,y, 'ko-')\n",
    "plt.plot(1-x1_SPC,x1_RE, 'ro')\n",
    "plt.plot(1-x2_SPC,x2_RE, 'co')\n",
    "\n",
    "plt.ylim([0,1])\n",
    "plt.xlim([0,1])\n",
    "plt.show()\n"
   ]
  },
  {
   "cell_type": "code",
   "execution_count": 6,
   "id": "satisfactory-congo",
   "metadata": {},
   "outputs": [
    {
     "data": {
      "text/plain": [
       "'\\nDado que o ponto vermelho está acima do verde, a matriz da direita é melhor (vermelho).\\nIndicando que esse modelo tem a melhor relação pra identificar os TP e os TN.\\n'"
      ]
     },
     "execution_count": 6,
     "metadata": {},
     "output_type": "execute_result"
    }
   ],
   "source": [
    "\"\"\"\n",
    "Dado que o ponto vermelho está acima do verde, a matriz da direita é melhor (vermelho).\n",
    "Indicando que esse modelo tem a melhor relação pra identificar os TP e os TN.\n",
    "\"\"\""
   ]
  },
  {
   "cell_type": "code",
   "execution_count": null,
   "id": "desperate-american",
   "metadata": {},
   "outputs": [],
   "source": []
  }
 ],
 "metadata": {
  "kernelspec": {
   "display_name": "Python 3",
   "language": "python",
   "name": "python3"
  },
  "language_info": {
   "codemirror_mode": {
    "name": "ipython",
    "version": 3
   },
   "file_extension": ".py",
   "mimetype": "text/x-python",
   "name": "python",
   "nbconvert_exporter": "python",
   "pygments_lexer": "ipython3",
   "version": "3.8.5"
  }
 },
 "nbformat": 4,
 "nbformat_minor": 5
}
